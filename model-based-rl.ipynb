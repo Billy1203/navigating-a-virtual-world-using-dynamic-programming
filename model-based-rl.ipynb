{
 "cells": [
  {
   "cell_type": "markdown",
   "metadata": {
    "deletable": true,
    "editable": true
   },
   "source": [
    "# Naviagting a virtual world using Dynamic Programming\n",
    "\n",
    "## Model-Based Reinforcement Learning (Dynamic programming algorithms)\n",
    "\n",
    "### Dependencies"
   ]
  },
  {
   "cell_type": "code",
   "execution_count": 1,
   "metadata": {
    "collapsed": true,
    "deletable": true,
    "editable": true
   },
   "outputs": [],
   "source": [
    "import sys\n",
    "import gym\n",
    "import numpy as np"
   ]
  },
  {
   "cell_type": "markdown",
   "metadata": {},
   "source": [
    "### Helpers"
   ]
  },
  {
   "cell_type": "code",
   "execution_count": 2,
   "metadata": {
    "collapsed": true
   },
   "outputs": [],
   "source": [
    "# Calculate a state-value function\n",
    "def one_step_lookahead(env, state, V, discount):\n",
    "    \"\"\"\n",
    "    Helper function to calculate a state-value function.\n",
    "    \n",
    "    :param env: object\n",
    "        Initialized OpenAI gym environment object\n",
    "    :param V: 2-D tensor\n",
    "        Matrix of size nSxnA, each cell represents \n",
    "        a probability of taking actions\n",
    "    :param state: int\n",
    "        Agent's state to consider\n",
    "    :param discount: float\n",
    "        MDP discount factor\n",
    "    \n",
    "    :return:\n",
    "        A vector of length nA containing the expected value of each action\n",
    "    \"\"\"\n",
    "    n_actions = env.env.nA\n",
    "    action_values = np.zeros(shape=n_actions)\n",
    "    for action in range(n_actions):\n",
    "        for prob, next_state, reward, done in env.env.P[state][action]:\n",
    "            action_values[action] += prob * (reward + discount * V[next_state])\n",
    "    return action_values\n",
    "\n",
    "\n",
    "# Evaluate a policy given a deterministic environment.\n",
    "def policy_eval(policy, env, discount=1.0, theta=1e-9, max_iter=1e9):\n",
    "    \"\"\"\n",
    "    Evaluate a policy given a deterministic environment.\n",
    "    \n",
    "    :param policy: 2-D tensor\n",
    "        Matrix of size nSxnA, each cell represents \n",
    "        a probability of taking actions\n",
    "    :param env: object\n",
    "        Initialized OpenAI gym object\n",
    "    :param discount: float default 1.0\n",
    "        MDP discount factor. Float range from 0 to 1.\n",
    "    :param theta: float default 1e-9\n",
    "        A thereshold of value function change\n",
    "    :param max_iter: int default qe-9    \n",
    "        Maximum number of iteration to prevent \n",
    "        infinite loops.\n",
    "    \n",
    "    :return:\n",
    "        A vector of size nS, which represent \n",
    "        a value function for each state.\n",
    "    \"\"\"\n",
    "    n_states = env.env.nS\n",
    "    # number of evaluation iterations\n",
    "    eval_iters = 1\n",
    "    # initialize a value function for each state as zeros\n",
    "    V = np.zeros(shape=n_states)\n",
    "    # repeat until value change is below the threshold\n",
    "    for i in range(int(max_iter)):\n",
    "        # init a change of value function as zero\n",
    "        delta = 0\n",
    "        # iterate through each state\n",
    "        for state in range(n_states):\n",
    "            # init a new value of current state\n",
    "            v = 0\n",
    "            # Try all possible actions which can be taken from this state\n",
    "            for action, action_prob in enumerate(policy[state]):\n",
    "                # evaluate how good each next state will be\n",
    "                for state_prob, next_state, reward, done in env.env.P[state][action]:\n",
    "                    # calculate the expected value\n",
    "                    v += action_prob * state_prob * (reward + discount * V[next_state])\n",
    "            # claculate the absolute change of value function\n",
    "            delta = max(delta, np.abs(V[state] - v))\n",
    "            # update value function\n",
    "            V[state] = v\n",
    "        eval_iters += 1\n",
    "        \n",
    "        # terminate if value change is insignificant\n",
    "        if delta < theta:\n",
    "            print(f'Policy evaluation terminated at {eval_iters} iterations.')\n",
    "            return V"
   ]
  },
  {
   "cell_type": "markdown",
   "metadata": {
    "deletable": true,
    "editable": true
   },
   "source": [
    "## Value iteration"
   ]
  },
  {
   "cell_type": "code",
   "execution_count": 3,
   "metadata": {
    "collapsed": true,
    "deletable": true,
    "editable": true
   },
   "outputs": [],
   "source": [
    "def value_iteration(env, discount=1e-1, theta=1e-9, max_iter=1e4):\n",
    "    \"\"\"\n",
    "    Value iteration algorithm to solve MDP.\n",
    "    \n",
    "    :param env: object\n",
    "        Initaized OpenAI gym environment object\n",
    "    :param discount: float default 1e-1\n",
    "        MDP discount factor\n",
    "    :param theta: float default 1e-9\n",
    "        Stopping threshold. If the value of all states\n",
    "        changes less than theta in one iteration\n",
    "    :param max_iter: int\n",
    "        Maximum number of iterations that can be ever performed\n",
    "        (to prevent infinite horizon)\n",
    "    \n",
    "    :return: tuple(policy, V)\n",
    "        policy: the optimal policy determined by the value function\n",
    "        V: the optimal value determined by the value function\n",
    "    \"\"\"\n",
    "    # initalized state-value function with zeros for each env state\n",
    "    V = np.zeros(env.env.nS)\n",
    "    \n",
    "    for i in range(int(max_iter)):\n",
    "        # early stopping condition\n",
    "        delta = 0\n",
    "        # update each state\n",
    "        for state in range(env.env.nS):\n",
    "            # Do a one-step lookahead to calculate state-action values\n",
    "            action_value = one_step_lookahead(env, state, V, discount)\n",
    "            # select best action to perform based on the highest state-action values\n",
    "            best_action_value = np.max(action_value)\n",
    "            # calculate change in value\n",
    "            delta = max(delta, np.abs(V[state] - best_action_value))\n",
    "            # update the value function for current state\n",
    "            V[state] = best_action_value\n",
    "            \n",
    "        # check if we can stop\n",
    "        if delta < theta:\n",
    "            print(f'Value iteration converged at iteration #{i+1:,}')\n",
    "            break\n",
    "    \n",
    "    # create deterministic policy using the optimal value function\n",
    "    policy = np.zeros(shape=[env.env.nS, env.env.nA])\n",
    "    \n",
    "    for state in range(env.env.nS):\n",
    "        # one step lookahead to find the best action for this state\n",
    "        action_value = one_step_lookahead(env, state, V, discount)\n",
    "        #select the best action based on the highest state-action value\n",
    "        best_action = np.argmax(action_value)\n",
    "        # update the policy to perform a better action at a current state\n",
    "        policy[state, best_action] = 1.0\n",
    "    \n",
    "    return policy, V"
   ]
  },
  {
   "cell_type": "markdown",
   "metadata": {
    "deletable": true,
    "editable": true
   },
   "source": [
    "## Policy iteration"
   ]
  },
  {
   "cell_type": "code",
   "execution_count": 4,
   "metadata": {
    "collapsed": true,
    "deletable": true,
    "editable": true
   },
   "outputs": [],
   "source": [
    "def policy_iteration(env, discount=1.0, max_iter=1e9):\n",
    "    \"\"\"\n",
    "    Policiy iteration algorithm to solve MDP.\n",
    "    \n",
    "    :param env: object\n",
    "        Initaized OpenAI gym environment object\n",
    "    :param discount: float default 1.0\n",
    "        MDP discount factor\n",
    "    :param theta: float default 1e-9\n",
    "        Stopping threshold. If the value of all states\n",
    "        changes less than theta in one iteration\n",
    "    :param max_iter: int\n",
    "        Maximum number of iterations that can be ever performed\n",
    "        (to prevent infinite horizon)\n",
    "        \n",
    "    :return: tuple(policy, V)\n",
    "        policy: the optimal policy determined by the value function\n",
    "        V: the optimal value determined by the value function\n",
    "    \"\"\"\n",
    "    # start with random policy\n",
    "    # n_states x n_actions / n_actions\n",
    "    n_states = env.env.nS\n",
    "    n_actions = env.env.nA\n",
    "    policy = np.ones(shape=[n_states, n_actions]) / n_actions\n",
    "    # init counter of evaluated policies\n",
    "    evaluated_policies = 1\n",
    "    \n",
    "    # repeat until convergence or critical number of iterations reached\n",
    "    for i in range(int(max_iter)):\n",
    "        stable_policy = False\n",
    "        # Evaluate current policy\n",
    "        V = policy_eval(policy, env, discount)\n",
    "        # go through each state & try to improve actions that were taken\n",
    "        for state in range(n_states):\n",
    "            curr_action = np.argmax(policy[state])\n",
    "            # look one step ahead and evaluate if curr_action is optimal\n",
    "            # will try every possible action in a curr_state\n",
    "            action_value = one_step_lookahead(env, state, V, discount)\n",
    "            # select best aciton \n",
    "            best_action = np.argmax(action_value)\n",
    "            # if action didn't change\n",
    "            if curr_action != best_action:\n",
    "                stable_policy = True\n",
    "            # Greedy policy update\n",
    "            policy[state] = np.eye(n_actions)[best_action]\n",
    "        evaluated_policies += 1\n",
    "        # if the algo converged & policy is not changing anymore\n",
    "        if stable_policy:\n",
    "            print(f'Found stable policy after {evaluated_policies:,} evaluations.')\n",
    "            return policy, V"
   ]
  },
  {
   "cell_type": "markdown",
   "metadata": {},
   "source": [
    "### Play episodes (assuming we have optimal policy)"
   ]
  },
  {
   "cell_type": "code",
   "execution_count": 5,
   "metadata": {
    "collapsed": true
   },
   "outputs": [],
   "source": [
    "def play_episodes(env, episodes, policy, max_action=100, render=False):\n",
    "    \"\"\"\n",
    "    Play `episodes` number of episodes.\n",
    "    \n",
    "    :param env: object\n",
    "        Initaized OpenAI gym environment object\n",
    "    :param episodes: int\n",
    "        Number of runs per game.\n",
    "    :param policy: 2-D tensor\n",
    "        Matrix of size nSxnA, each cell represents \n",
    "        a probability of taking actions. The opitmal policy \n",
    "        to be used by the agent.\n",
    "    :param max_action: int default 100\n",
    "        Maximum number of actions an agent can take in one \n",
    "        episode.\n",
    "    :param render: boolean default False    \n",
    "        Maybe render the game environment. \n",
    "        (This makes computation slower and console messy)\n",
    "    \n",
    "    :return: tuple(wins, total_reward, average_reward)\n",
    "        wins: The total number of wins the agent has\n",
    "        total_reward: The agent's total accumulated reward\n",
    "        average_reward: The agent's average reward\n",
    "    \"\"\"\n",
    "    wins = 0\n",
    "    total_reward, total_action = 0, 0\n",
    "    \n",
    "    for episode in range(episodes):\n",
    "        state = env.reset()\n",
    "        done, max_a = False, 0\n",
    "        while max_a < max_action:\n",
    "            action = np.argmax(policy[state])\n",
    "            next_state, reward, done, _ = env.step(action)\n",
    "            if render:\n",
    "                env.render()\n",
    "            max_a += 1  # increment actions taken\n",
    "            total_reward += reward  # increment reward received\n",
    "            state = next_state  # set current state to next state\n",
    "            # terminate if we're done and increment `wins`\n",
    "            if done:\n",
    "                wins += 1\n",
    "                break\n",
    "        \n",
    "        total_action += max_a\n",
    "        # Logging\n",
    "        sys.stdout.write(f'\\rEpisodes: {episode+1:,}\\tWins: {wins:,}\\t'\n",
    "                         f'Total rewards: {total_reward:,}\\tMax action: {max_a:,}')\n",
    "        sys.stdout.flush()\n",
    "    \n",
    "    avg_reward = total_reward / episodes\n",
    "    avg_action = total_action / episodes\n",
    "    print('')\n",
    "    return wins, total_reward, avg_reward, avg_action"
   ]
  },
  {
   "cell_type": "markdown",
   "metadata": {
    "deletable": true,
    "editable": true
   },
   "source": [
    "## Environment"
   ]
  },
  {
   "cell_type": "code",
   "execution_count": 6,
   "metadata": {
    "collapsed": true,
    "deletable": true,
    "editable": true
   },
   "outputs": [],
   "source": [
    "env_name = 'FrozenLake8x8-v0'\n",
    "env = gym.make(env_name)"
   ]
  },
  {
   "cell_type": "markdown",
   "metadata": {
    "deletable": true,
    "editable": true
   },
   "source": [
    "## Training loop"
   ]
  },
  {
   "cell_type": "code",
   "execution_count": null,
   "metadata": {
    "collapsed": false,
    "deletable": true,
    "editable": true
   },
   "outputs": [],
   "source": [
    "episodes = 10000  # 10k\n",
    "\n",
    "\n",
    "def train(env):\n",
    "    \"\"\"\n",
    "    Train an agent in a given environment.\n",
    "    \n",
    "    :param env: object\n",
    "        Initaized OpenAI gym environment object\n",
    "    \n",
    "    :return: None\n",
    "    \"\"\"\n",
    "    action_mapping = {\n",
    "        0: '\\u2191',  # up\n",
    "        1: '\\u2192',  # right\n",
    "        2: '\\u2193',  # down\n",
    "        3: '\\u2190'   # left\n",
    "    }\n",
    "    \n",
    "    solvers = [\n",
    "        ('Policy Iteration', policy_iteration),\n",
    "        ('Value Itearation', value_iteration)\n",
    "    ]\n",
    "    \n",
    "    for iter_name, iter_func in solvers:\n",
    "        print(115*'=')\n",
    "        policy, V = iter_func(env)\n",
    "        \n",
    "        print(f'Final policy derived using {iter_name}:')\n",
    "        print(' '.join([action_mapping[action] for action in np.argmax(policy, axis=1)]))\n",
    "        \n",
    "        wins, total_reward, avg_reward, avg_action = play_episodes(env, episodes, policy)\n",
    "        \n",
    "        print(f'{iter_name} — number of wins = {wins:,}')\n",
    "        print(f'{iter_name} — average reward = {avg_reward:.2f}')\n",
    "        print(f'{iter_name} — average action = {avg_action:.2f}')\n",
    "    print(115*'=')"
   ]
  },
  {
   "cell_type": "code",
   "execution_count": null,
   "metadata": {
    "collapsed": false,
    "deletable": true,
    "editable": true,
    "scrolled": false
   },
   "outputs": [
    {
     "name": "stdout",
     "output_type": "stream",
     "text": [
      "===================================================================================================================\n",
      "Policy evaluation terminated at 203 iterations.\n",
      "Found stable policy after 2 evaluations.\n",
      "Final policy derived using Policy Iteration:\n",
      "← ← ← ↓ ↓ ↓ ↓ ↓ ← ← ← ← ↓ ↓ ↓ ↓ ← ← ↑ ↑ ↓ ← ↓ ↓ ← ← ← → ↑ ↑ ↓ ↓ ← ← ↑ ↑ ↓ → ← ↓ ↑ ↑ ↑ → ← ↑ ↑ ↓ ↑ ↑ → ↑ ↑ ↑ ↑ ↓ ↑ → ↑ ↑ → → → ↑\n",
      "Episodes: 1,888\tWins: 1,100\tTotal rewards: 958.0\tMax action: 590"
     ]
    }
   ],
   "source": [
    "train(env)"
   ]
  },
  {
   "cell_type": "code",
   "execution_count": null,
   "metadata": {
    "collapsed": true
   },
   "outputs": [],
   "source": [
    "env.close()"
   ]
  }
 ],
 "metadata": {
  "kernelspec": {
   "display_name": "Python 3",
   "language": "python",
   "name": "python3"
  },
  "language_info": {
   "codemirror_mode": {
    "name": "ipython",
    "version": 3
   },
   "file_extension": ".py",
   "mimetype": "text/x-python",
   "name": "python",
   "nbconvert_exporter": "python",
   "pygments_lexer": "ipython3",
   "version": "3.6.3"
  }
 },
 "nbformat": 4,
 "nbformat_minor": 2
}
