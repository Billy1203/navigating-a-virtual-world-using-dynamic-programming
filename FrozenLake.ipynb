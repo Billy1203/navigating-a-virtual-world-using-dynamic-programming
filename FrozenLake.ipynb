{
 "cells": [
  {
   "cell_type": "markdown",
   "metadata": {},
   "source": [
    "# Naviagting a virtual world using Dynamic Programming"
   ]
  },
  {
   "cell_type": "markdown",
   "metadata": {},
   "source": [
    "### Dependencies"
   ]
  },
  {
   "cell_type": "code",
   "execution_count": null,
   "metadata": {
    "collapsed": true
   },
   "outputs": [],
   "source": [
    "import sys\n",
    "import datetime as dt\n",
    "\n",
    "import gym\n",
    "import numpy as np\n",
    "import tensorflow as tf"
   ]
  },
  {
   "cell_type": "markdown",
   "metadata": {},
   "source": [
    "## Value iteration"
   ]
  },
  {
   "cell_type": "code",
   "execution_count": null,
   "metadata": {
    "collapsed": true
   },
   "outputs": [],
   "source": [
    "def value_iteration(env, policy, discount=1e-1, episodes=1e4):\n",
    "    \n",
    "    state, done = env.reset(), False\n",
    "    total_reward, wins, won_episodes = 0, 0, 0\n",
    "    \n",
    "    for i in range(episodes):\n",
    "        # Pick best action from policy\n",
    "        action = np.max(policy[state])\n",
    "        # take the action\n",
    "        new_state, reward, done, _ = env.step(action)\n",
    "        # update the policy\n",
    "        policy[state, action] += reward + (discount * np.max(policy[new_state]) - policy[state, action])\n",
    "        # record accumulated rewards\n",
    "        total_reward += reward\n",
    "        # set new state to the current state.\n",
    "        state = new_state\n",
    "        \n",
    "        if done:\n",
    "            wins += 1\n",
    "            won_episodes += 1\n",
    "            break\n",
    "    \n",
    "    # average reward\n",
    "    average_reward = total_reward / completed_iter\n",
    "    \n",
    "    return policy, total_reward, average_reward, wins, won_episodes"
   ]
  },
  {
   "cell_type": "markdown",
   "metadata": {},
   "source": [
    "## Policy iteration"
   ]
  },
  {
   "cell_type": "code",
   "execution_count": null,
   "metadata": {
    "collapsed": true
   },
   "outputs": [],
   "source": [
    "def policy_iteration(env):\n",
    "    pass"
   ]
  },
  {
   "cell_type": "markdown",
   "metadata": {},
   "source": [
    "## Environment"
   ]
  },
  {
   "cell_type": "code",
   "execution_count": null,
   "metadata": {
    "collapsed": true
   },
   "outputs": [],
   "source": [
    "env = gym.make('FrozenLake8x8-v0')"
   ]
  },
  {
   "cell_type": "markdown",
   "metadata": {},
   "source": [
    "## Training loop"
   ]
  },
  {
   "cell_type": "code",
   "execution_count": null,
   "metadata": {
    "collapsed": true
   },
   "outputs": [],
   "source": [
    "def train(model_func):\n",
    "    "
   ]
  }
 ],
 "metadata": {
  "kernelspec": {
   "display_name": "Python 3",
   "language": "python",
   "name": "python3"
  },
  "language_info": {
   "codemirror_mode": {
    "name": "ipython",
    "version": 3
   },
   "file_extension": ".py",
   "mimetype": "text/x-python",
   "name": "python",
   "nbconvert_exporter": "python",
   "pygments_lexer": "ipython3",
   "version": "3.6.3"
  }
 },
 "nbformat": 4,
 "nbformat_minor": 2
}
